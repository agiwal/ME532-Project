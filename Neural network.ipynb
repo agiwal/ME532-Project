{
 "cells": [
  {
   "cell_type": "markdown",
   "metadata": {
    "_uuid": "aba7736343f2285046a25c48c0fd5bdd59dc9785"
   },
   "source": [
    "## Neural network for fashion_MNIST data"
   ]
  },
  {
   "cell_type": "code",
   "execution_count": 9,
   "metadata": {
    "_cell_guid": "b1076dfc-b9ad-4769-8c92-a6c4dae69d19",
    "_uuid": "8f2839f25d086af736a60e9eeb907d3b93b6e0e5",
    "scrolled": true
   },
   "outputs": [],
   "source": [
    "import numpy as np \n",
    "import pandas as pd\n",
    "import matplotlib.pyplot as plt"
   ]
  },
  {
   "cell_type": "markdown",
   "metadata": {},
   "source": [
    "## Data processing"
   ]
  },
  {
   "cell_type": "code",
   "execution_count": 11,
   "metadata": {
    "_uuid": "41218c14cdfb16f121c1640f7996bb361048836d"
   },
   "outputs": [],
   "source": [
    "# Load the data\n",
    "df_test = pd.read_csv('fashion-mnist_test.csv')\n",
    "df_train = pd.read_csv('fashion-mnist_train.csv')\n",
    "\n",
    "df_train = np.array(df_train, dtype = 'int32')\n",
    "df_test = np.array(df_test, dtype = 'int32')\n",
    "\n",
    "x_train = df_train[:,1:]\n",
    "\n",
    "y_train = df_train[:,0]\n",
    "\n",
    "x_test= df_test[:,1:]\n",
    "\n",
    "y_test=df_test[:,0]\n",
    "m_train = x_train.shape[0]\n",
    "m_test = x_test.shape[0]"
   ]
  },
  {
   "cell_type": "code",
   "execution_count": 12,
   "metadata": {
    "_uuid": "4eb827211d3bb33324ce58c39f2f4ece6b2db6d5"
   },
   "outputs": [],
   "source": [
    "# Creating validation data sets\n",
    "m_train = 59000\n",
    "m_validation = 1000\n",
    "\n",
    "mask = list(range(m_train, m_train + m_validation))\n",
    "x_val = x_train[mask]\n",
    "y_val = y_train[mask]\n",
    "\n",
    "mask = list(range(m_train))\n",
    "x_train = x_train[mask]\n",
    "y_train = y_train[mask]\n",
    "\n",
    "mask = list(range(m_test))\n",
    "x_test = x_test[mask]\n",
    "y_test = y_test[mask]\n",
    "\n",
    "# Reshaping data\n",
    "x_train = x_train.reshape(m_train, -1)\n",
    "x_val = x_val.reshape(m_validation, -1)\n",
    "x_test = x_test.reshape(m_test, -1)"
   ]
  },
  {
   "cell_type": "markdown",
   "metadata": {
    "_uuid": "7c4802b4a024d30f949f7859511c93d5af383d95"
   },
   "source": [
    "## Defining neural network"
   ]
  },
  {
   "cell_type": "code",
   "execution_count": 5,
   "metadata": {
    "_uuid": "8cf77fab4c742286fad45ab1e91baa7550616261"
   },
   "outputs": [],
   "source": [
    "class TwoLayerNet(object):    \n",
    "\n",
    "    def __init__(self, input_size, hidden_size, output_size, std=1e-4): \n",
    "        \"\"\"\n",
    "        Initialize the model. Weights are initialized to small random values and\n",
    "        biases are initialized to zero. Weights and biases are stored in the\n",
    "        variable self.params, which is a dictionary with the following keys:\n",
    "\n",
    "        W1: First layer weights; has shape (D, H)\n",
    "        b1: First layer biases; has shape (H,)\n",
    "        W2: Second layer weights; has shape (H, C)\n",
    "        b2: Second layer biases; has shape (C,)\n",
    "\n",
    "        Inputs:\n",
    "        - input_size: The dimension D of the input data.\n",
    "        - hidden_size: The number of neurons H in the hidden layer.\n",
    "        - output_size: The number of classes C.\n",
    "        \"\"\"\n",
    "        self.params = {}    \n",
    "        self.params['W1'] = std * np.random.randn(input_size, hidden_size)   \n",
    "        self.params['b1'] = np.zeros((1, hidden_size))    \n",
    "        self.params['W2'] = std * np.random.randn(hidden_size, output_size)   \n",
    "        self.params['b2'] = np.zeros((1, output_size))\n",
    "\n",
    "    def loss(self, X, y=None, reg=0.0):\n",
    "        \"\"\"\n",
    "        Compute the loss and gradients for a two layer fully connected neural\n",
    "        network.\n",
    "\n",
    "        Inputs:\n",
    "        - X: Input data of shape (N, D). Each X[i] is a training sample.\n",
    "        - y: Vector of training labels. y[i] is the label for X[i], and each y[i] is\n",
    "          an integer in the range 0 <= y[i] < C. This parameter is optional; if it\n",
    "          is not passed then we only return scores, and if it is passed then we\n",
    "          instead return the loss and gradients.\n",
    "        - reg: Regularization strength.\n",
    "\n",
    "        Returns:\n",
    "        If y is None, return a matrix scores of shape (N, C) where scores[i, c] is\n",
    "        the score for class c on input X[i].\n",
    "\n",
    "        If y is not None, instead return a tuple of:\n",
    "        - loss: Loss (data loss and regularization loss) for this batch of training\n",
    "          samples.\n",
    "        - grads: Dictionary mapping parameter names to gradients of those parameters\n",
    "          with respect to the loss function; has the same keys as self.params.\n",
    "        \"\"\"\n",
    "        # Unpack variables from the params dictionary\n",
    "        W1, b1 = self.params['W1'], self.params['b1']\n",
    "        W2, b2 = self.params['W2'], self.params['b2']\n",
    "        N, D = X.shape\n",
    "        \n",
    "        # Compute the forward pass\n",
    "        scores = None\n",
    "        h1 = ReLU(np.dot(X, W1) + b1)      \n",
    "        out = np.dot(h1, W2) + b2          \n",
    "        scores = out\n",
    "        \n",
    "        # If the targets are not given then jump out, we're done\n",
    "        if y is None:   \n",
    "            return scores\n",
    "        \n",
    "        # Compute the loss\n",
    "        scores_max = np.max(scores, axis=1, keepdims=True)    # (N,1)\n",
    "        exp_scores = np.exp(scores - scores_max)              # (N,C)\n",
    "        probs = exp_scores / np.sum(exp_scores, axis=1, keepdims=True)    # (N,C)\n",
    "        correct_logprobs = -np.log(probs[range(N), y])        # (N,1)\n",
    "        data_loss = np.sum(correct_logprobs) / N\n",
    "        reg_loss = 0.5 * reg * np.sum(W1*W1) + 0.5 * reg * np.sum(W2*W2)\n",
    "        loss = data_loss + reg_loss\n",
    "        \n",
    "        # Backward pass: compute gradients\n",
    "        grads = {}\n",
    "        dscores = probs                                 # (N,C)\n",
    "        dscores[range(N), y] -= 1\n",
    "        dscores /= N\n",
    "        dW2 = np.dot(h1.T, dscores)                     # (H,C)\n",
    "        db2 = np.sum(dscores, axis=0, keepdims=True)    # (1,C)\n",
    "        dh1 = np.dot(dscores, W2.T)                     # (N,H)\n",
    "        dh1[h1 <= 0] = 0\n",
    "        dW1 = np.dot(X.T, dh1)                          # (D,H)\n",
    "        db1 = np.sum(dh1, axis=0, keepdims=True)        # (1,H)\n",
    "        dW2 += reg * W2\n",
    "        dW1 += reg * W1\n",
    "        \n",
    "        grads['W1'] = dW1\n",
    "        grads['b1'] = db1\n",
    "        grads['W2'] = dW2\n",
    "        grads['b2'] = db2\n",
    "\n",
    "        return loss, grads\n",
    "\n",
    "    def train(self, X, y, X_val, y_val, learning_rate=1e-3, \n",
    "               learning_rate_decay=0.95, reg=1e-5, mu=0.9, num_epochs=10, \n",
    "               mu_increase=1.0, batch_size=200, verbose=False):   \n",
    "        \"\"\"\n",
    "        Train this neural network using stochastic gradient descent.\n",
    "\n",
    "        Inputs:\n",
    "        - X: A numpy array of shape (N, D) giving training data.\n",
    "        - y: A numpy array f shape (N,) giving training labels; y[i] = c means that\n",
    "          X[i] has label c, where 0 <= c < C.\n",
    "        - X_val: A numpy array of shape (N_val, D) giving validation data.\n",
    "        - y_val: A numpy array of shape (N_val,) giving validation labels.\n",
    "        - learning_rate: Scalar giving learning rate for optimization.\n",
    "        - learning_rate_decay: Scalar giving factor used to decay the learning rate\n",
    "          after each epoch.\n",
    "        - reg: Scalar giving regularization strength.\n",
    "        - num_iters: Number of steps to take when optimizing.\n",
    "        - batch_size: Number of training examples to use per step.\n",
    "        - verbose: boolean; if true print progress during optimization.\n",
    "        \"\"\"\n",
    "        num_train = X.shape[0]\n",
    "        iterations_per_epoch = max(int(num_train / batch_size), 1)\n",
    "        \n",
    "        # Use SGD to optimize the parameters in self.model\n",
    "        v_W2, v_b2 = 0.0, 0.0\n",
    "        v_W1, v_b1 = 0.0, 0.0\n",
    "        loss_history = []\n",
    "        train_acc_history = []\n",
    "        val_acc_history = []\n",
    "\n",
    "        for it in range(1, num_epochs * iterations_per_epoch + 1):   \n",
    "            X_batch = None   \n",
    "            y_batch = None \n",
    "            \n",
    "            # Create a random minibatch of training data and labels\n",
    "            sample_index = np.random.choice(num_train, batch_size, replace=True)   \n",
    "            X_batch = X[sample_index, :]          \n",
    "            y_batch = y[sample_index]             \n",
    "            \n",
    "            # Compute loss and gradients using the current minibatch\n",
    "            loss, grads = self.loss(X_batch, y=y_batch, reg=reg) \n",
    "            loss_history.append(loss)\n",
    "            \n",
    "            # Use the gradients to update the parameters of the network\n",
    "            v_W2 = mu * v_W2 - learning_rate * grads['W2']    \n",
    "            self.params['W2'] += v_W2   \n",
    "            v_b2 = mu * v_b2 - learning_rate * grads['b2']    \n",
    "            self.params['b2'] += v_b2   \n",
    "            v_W1 = mu * v_W1 - learning_rate * grads['W1']    \n",
    "            self.params['W1'] += v_W1   \n",
    "            v_b1 = mu * v_b1 - learning_rate * grads['b1']  \n",
    "            self.params['b1'] += v_b1\n",
    "            \n",
    "            if verbose and it % iterations_per_epoch == 0:    \n",
    "            # Every epoch, check train and val accuracy and decay learning rate.\n",
    "                epoch = it / iterations_per_epoch    \n",
    "                train_acc = (self.predict(X_batch) == y_batch).mean()    \n",
    "                val_acc = (self.predict(X_val) == y_val).mean()    \n",
    "                train_acc_history.append(train_acc)    \n",
    "                val_acc_history.append(val_acc)    \n",
    "                print(\"epoch %d / %d: loss %f, train_acc: %f, val_acc: %f\" % \n",
    "                                    (epoch, num_epochs, loss, train_acc, val_acc))\n",
    "                \n",
    "                # Decay learning rate\n",
    "                learning_rate *= learning_rate_decay    \n",
    "                mu *= mu_increase\n",
    "\n",
    "        return {   \n",
    "            'loss_history': loss_history,   \n",
    "            'train_acc_history': train_acc_history,   \n",
    "            'val_acc_history': val_acc_history,\n",
    "        }\n",
    "\n",
    "    def predict(self, X):    \n",
    "        \"\"\"\n",
    "        Use the trained weights of this two-layer network to predict labels for\n",
    "        data points. For each data point we predict scores for each of the C\n",
    "        classes, and assign each data point to the class with the highest score.\n",
    "\n",
    "        Inputs:\n",
    "        - X: A numpy array of shape (N, D) giving N D-dimensional data points to\n",
    "          classify.\n",
    "\n",
    "        Returns:\n",
    "        - y_pred: A numpy array of shape (N,) giving predicted labels for each of\n",
    "        the elements of X. For all i, y_pred[i] = c means that X[i] is predicted\n",
    "        to have class c, where 0 <= c < C.\n",
    "        \"\"\"\n",
    "        y_pred = None    \n",
    "        h1 = ReLU(np.dot(X, self.params['W1']) + self.params['b1'])    \n",
    "        scores = np.dot(h1, self.params['W2']) + self.params['b2']    \n",
    "        y_pred = np.argmax(scores, axis=1)    \n",
    "\n",
    "        return y_pred\n",
    "\n",
    "def ReLU(x):    \n",
    "     \n",
    "    return np.maximum(0, x)"
   ]
  },
  {
   "cell_type": "markdown",
   "metadata": {
    "_uuid": "d5bd190cb03a1b59a1b06a7b3410f0058c36da2d"
   },
   "source": [
    "## Training and Analysis"
   ]
  },
  {
   "cell_type": "code",
   "execution_count": 6,
   "metadata": {
    "_uuid": "aaebb656111f9806e88f8663f09d282f5548b55d",
    "scrolled": true
   },
   "outputs": [],
   "source": [
    "input_size = x_train.shape[1]\n",
    "score=[]\n",
    "for hidden_size in [2,3,4,5,10,15,20,30,50,100]:\n",
    "    num_classes = 10\n",
    "    net = TwoLayerNet(input_size, hidden_size, num_classes)\n",
    "\n",
    "    # Train the network\n",
    "    stats = net.train(x_train, y_train, x_val, y_val,\n",
    "                num_epochs=10, batch_size=1024,\n",
    "                learning_rate=7.5e-4, learning_rate_decay=0.95,\n",
    "                reg=1.0, verbose=False)\n",
    "\n",
    "    # Predict on the validation set\n",
    "    val_acc = (net.predict(x_val) == y_val).mean()\n",
    "    score.append(val_acc)"
   ]
  },
  {
   "cell_type": "code",
   "execution_count": 7,
   "metadata": {},
   "outputs": [
    {
     "data": {
      "image/png": "[encoded data removed]",
      "text/plain": [
       "<Figure size 432x288 with 1 Axes>"
      ]
     },
     "metadata": {
      "needs_background": "light"
     },
     "output_type": "display_data"
    }
   ],
   "source": [
    "plt.plot(score)\n",
    "plt.title(\"Neural network analyses\", fontsize=15)\n",
    "plt.xlabel('Size of hidden layer',fontsize=15)\n",
    "plt.ylabel('Accuracy',fontsize=15)\n",
    "positions = (0,1,2,3,4,5,6,7,8,9)\n",
    "labels = ('2','3','4','5','10','15','20','30','50','100')\n",
    "plt.xticks(positions, labels)\n",
    "plt.grid(b=None, which='major', axis='both')"
   ]
  },
  {
   "cell_type": "code",
   "execution_count": 8,
   "metadata": {
    "_uuid": "b59c706ae21525d11ad5722d06607bc359100ede",
    "scrolled": false
   },
   "outputs": [
    {
     "data": {
      "image/png": "[encoded data removed]",
      "text/plain": [
       "<Figure size 720x576 with 1 Axes>"
      ]
     },
     "metadata": {
      "needs_background": "light"
     },
     "output_type": "display_data"
    }
   ],
   "source": [
    "%matplotlib inline\n",
    "plt.rcParams['figure.figsize'] = (10.0, 8.0) # set default size of plots\n",
    "plt.rcParams['image.interpolation'] = 'nearest'\n",
    "plt.rcParams['image.cmap'] = 'gray'\n",
    "plt.subplots_adjust(wspace =0, hspace =0.3)\n",
    "\n",
    "\n",
    "# Plot the loss function and train / validation accuracies\n",
    "\n",
    "plt.subplot(2, 1, 1)\n",
    "plt.plot(stats['loss_history'])\n",
    "plt.title('Hidden layers=10', fontsize=15)\n",
    "plt.xlabel('Iteration', fontsize=15)\n",
    "plt.ylabel('Loss', fontsize=15)\n",
    "plt.grid(b=None, which='major', axis='both')\n"
   ]
  },
  {
   "cell_type": "code",
   "execution_count": null,
   "metadata": {},
   "outputs": [],
   "source": []
  }
 ],
 "metadata": {
  "kernelspec": {
   "display_name": "Python 3",
   "language": "python",
   "name": "python3"
  },
  "language_info": {
   "codemirror_mode": {
    "name": "ipython",
    "version": 3
   },
   "file_extension": ".py",
   "mimetype": "text/x-python",
   "name": "python",
   "nbconvert_exporter": "python",
   "pygments_lexer": "ipython3",
   "version": "3.8.3"
  }
 },
 "nbformat": 4,
 "nbformat_minor": 1
}
