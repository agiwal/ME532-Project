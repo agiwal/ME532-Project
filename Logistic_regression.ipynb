{
 "cells": [
  {
   "cell_type": "markdown",
   "metadata": {},
   "source": [
    "## Logistic regression for fashion-MNIST dataset"
   ]
  },
  {
   "cell_type": "code",
   "execution_count": 1,
   "metadata": {
    "_cell_guid": "b1076dfc-b9ad-4769-8c92-a6c4dae69d19",
    "_uuid": "8f2839f25d086af736a60e9eeb907d3b93b6e0e5"
   },
   "outputs": [],
   "source": [
    "import numpy as np\n",
    "import pandas as pd\n",
    "import matplotlib.pyplot as plt"
   ]
  },
  {
   "cell_type": "markdown",
   "metadata": {},
   "source": [
    "## Data Preparation"
   ]
  },
  {
   "cell_type": "code",
   "execution_count": 2,
   "metadata": {
    "_cell_guid": "79c7e3d0-c299-4dcb-8224-4455121ee9b0",
    "_uuid": "d629ff2d2480ee46fbb7e2d37f6b5fab8052498a"
   },
   "outputs": [],
   "source": [
    "data_train = pd.read_csv('fashion-mnist_train.csv')\n",
    "data_test = pd.read_csv('fashion-mnist_test.csv')"
   ]
  },
  {
   "cell_type": "code",
   "execution_count": 3,
   "metadata": {},
   "outputs": [],
   "source": [
    "X_train = data_train.values[:, 1:]\n",
    "Y_train = data_train.values[:, 0]\n",
    "X_test = data_test.values[:, 1:]\n",
    "Y_test = data_test.values[:, 0]"
   ]
  },
  {
   "cell_type": "code",
   "execution_count": 4,
   "metadata": {},
   "outputs": [],
   "source": [
    "# Normalization of data\n",
    "X_train, X_test = X_train.astype('float32'), X_test.astype('float32'), \n",
    "X_train /= 255\n",
    "X_test /= 255"
   ]
  },
  {
   "cell_type": "markdown",
   "metadata": {},
   "source": [
    "## Defining functions for logistic regression"
   ]
  },
  {
   "cell_type": "code",
   "execution_count": 5,
   "metadata": {},
   "outputs": [],
   "source": [
    "# Logistic regression function\n",
    "# The function inputs the dataset and number of iterations with a defined learning rate =0.01\n",
    "# The function returns weights for the input data after minimizing error by stochastic gradient\n",
    "\n",
    "def logistic(X, Y, T, learning_rate=0.01):\n",
    "    N = X.shape[0]\n",
    "    W = np.zeros((X.shape[1],)) \n",
    "    for i in range(T):\n",
    "        rand_index = np.random.choice(N, size=1)\n",
    "        x_n = X[rand_index][0]\n",
    "        E_dev = -1 * (Y[rand_index] * x_n)/(1 + np.exp((Y[rand_index][0] * np.dot(x_n, W))))\n",
    "        W = W - learning_rate * E_dev\n",
    "    return W"
   ]
  },
  {
   "cell_type": "code",
   "execution_count": 6,
   "metadata": {},
   "outputs": [],
   "source": [
    "# The function uses multiclass approach to generate new labels for each class\n",
    "\n",
    "def labels_new(Y, k):\n",
    "    Y_copy = np.copy(Y)\n",
    "    for i, y in enumerate(Y_copy):\n",
    "        Y_copy[i] = 2 * (int(y) == k) - 1\n",
    "    return Y_copy"
   ]
  },
  {
   "cell_type": "code",
   "execution_count": 7,
   "metadata": {},
   "outputs": [],
   "source": [
    "# sigmoid function \n",
    "\n",
    "def sigmoid(x):\n",
    "    return 1/(1+np.exp(-x))\n",
    "\n",
    "#prob function uses the sigmoid and calculates the probability for an input x to each label\n",
    "\n",
    "def prob(W, X):\n",
    "    probs = []\n",
    "    for i in range(10):\n",
    "        probs.append(sigmoid(np.dot(X, W[i])))\n",
    "    return probs\n",
    "\n",
    "# The following function calculates the predicted class from the maximum probability\n",
    "def predicted_class(p):\n",
    "    Y_pred = []\n",
    "    for i in range(len(p[0])):\n",
    "        Y_pred.append(np.argmax(p[:,i]))\n",
    "    return Y_pred\n",
    "\n",
    "# Accuracy of the prediction is calculated by comparing the predicted class and actual class\n",
    "def accuracy(Y_pred, Y):\n",
    "    correct = 0\n",
    "    for i in range(len(Y)):\n",
    "        if Y_pred[i] == Y[i]:\n",
    "            correct += 1\n",
    "    return correct/len(Y)"
   ]
  },
  {
   "cell_type": "markdown",
   "metadata": {},
   "source": [
    "## Performing logistic Regression"
   ]
  },
  {
   "cell_type": "code",
   "execution_count": 8,
   "metadata": {},
   "outputs": [],
   "source": [
    "class regression:\n",
    "    def fit(X, Y, k): # fits the functions\n",
    "        W = []\n",
    "        for i in range(k):\n",
    "            W.append(logistic(X, labels_new(Y, i),T))\n",
    "        return W\n",
    "\n",
    "    def score(X, Y, W): # calculates score of regression\n",
    "        probs = prob(W, X)\n",
    "        Y_pred = predicted_class(np.array(probs))\n",
    "        return accuracy(Y_pred, Y)"
   ]
  },
  {
   "cell_type": "code",
   "execution_count": null,
   "metadata": {},
   "outputs": [],
   "source": [
    "score=[]\n",
    "for T in [50,100,500,1000,5000,10000,50000,100000,500000]:\n",
    "    classifier = regression\n",
    "    W_log = classifier.fit(X_train, Y_train, 10)\n",
    "    a=classifier.score(X_test, Y_test, W_log)\n",
    "    score.append(a)"
   ]
  },
  {
   "cell_type": "code",
   "execution_count": null,
   "metadata": {},
   "outputs": [],
   "source": [
    "# Training the algorithm\n",
    "\n",
    "classifier = regression\n",
    "W_log = classifier.fit(X_train, Y_train, 10)"
   ]
  },
  {
   "cell_type": "markdown",
   "metadata": {},
   "source": [
    "## Testing the Implemented Logisitic Regression"
   ]
  },
  {
   "cell_type": "code",
   "execution_count": null,
   "metadata": {},
   "outputs": [],
   "source": [
    "s=score\n",
    "plt.plot(s)\n",
    "plt.title(\"Regression analyses\", fontsize=15)\n",
    "plt.xlabel('No. of iterations',fontsize=15)\n",
    "plt.ylabel('Accuracy',fontsize=15)\n",
    "positions = (0,1,2, 3,4,5,6,7,8)\n",
    "labels = ('50','100','500','1000','5000','10000','50000','100000','500000')\n",
    "plt.xticks(positions, labels)\n",
    "plt.grid(b=None, which='major', axis='both')"
   ]
  },
  {
   "cell_type": "code",
   "execution_count": null,
   "metadata": {},
   "outputs": [],
   "source": []
  },
  {
   "cell_type": "code",
   "execution_count": null,
   "metadata": {},
   "outputs": [],
   "source": []
  }
 ],
 "metadata": {
  "kernelspec": {
   "display_name": "Python 3",
   "language": "python",
   "name": "python3"
  },
  "language_info": {
   "codemirror_mode": {
    "name": "ipython",
    "version": 3
   },
   "file_extension": ".py",
   "mimetype": "text/x-python",
   "name": "python",
   "nbconvert_exporter": "python",
   "pygments_lexer": "ipython3",
   "version": "3.8.3"
  }
 },
 "nbformat": 4,
 "nbformat_minor": 4
}
